{
 "cells": [
  {
   "cell_type": "code",
   "execution_count": 1,
   "id": "b4810f5a-1a28-47f7-950a-bd11c33184b2",
   "metadata": {},
   "outputs": [],
   "source": [
    "import warnings\n",
    "import pathlib\n",
    "from datetime import datetime, timedelta\n",
    "import multiprocessing\n",
    "\n",
    "import numpy as np\n",
    "import pandas as pd\n",
    "import xarray as xr\n",
    "import tqdm\n",
    "\n",
    "import matplotlib.pyplot as plt\n",
    "from matplotlib.colors import ListedColormap\n",
    "from matplotlib.colorbar import ColorbarBase\n",
    "from matplotlib import patches\n",
    "import cartopy.crs as ccrs\n",
    "\n",
    "import intake\n",
    "import healpy"
   ]
  },
  {
   "cell_type": "code",
   "execution_count": null,
   "id": "fcdfa5f4-2100-4a4b-a0ca-808ac5a043bf",
   "metadata": {},
   "outputs": [],
   "source": []
  }
 ],
 "metadata": {
  "kernelspec": {
   "display_name": "tobac",
   "language": "python",
   "name": "tobac"
  },
  "language_info": {
   "codemirror_mode": {
    "name": "ipython",
    "version": 3
   },
   "file_extension": ".py",
   "mimetype": "text/x-python",
   "name": "python",
   "nbconvert_exporter": "python",
   "pygments_lexer": "ipython3",
   "version": "3.12.7"
  }
 },
 "nbformat": 4,
 "nbformat_minor": 5
}
